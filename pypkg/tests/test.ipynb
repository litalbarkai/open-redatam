{
 "cells": [
  {
   "cell_type": "markdown",
   "metadata": {},
   "source": [
    "Galapagos (Ecuador) trimmed census data from 2015."
   ]
  },
  {
   "cell_type": "code",
   "execution_count": 2,
   "metadata": {},
   "outputs": [
    {
     "name": "stdout",
     "output_type": "stream",
     "text": [
      "Opening dictionary file...\n",
      "Exporting CG15...\n",
      "Exporting PROVIN...\n",
      "Exporting CANTON...\n",
      "Exporting PARROQ...\n",
      "Exporting ZONA...\n",
      "Fixing encoding...\n",
      "Tidying variables...\n"
     ]
    },
    {
     "data": {
      "text/plain": [
       "dict_keys(['CANTON', 'CANTON_LABELS_NOMCANT', 'PARROQ', 'PARROQ_LABELS_NOMPARR', 'PROVIN', 'PROVIN_LABELS_NOMPROV', 'ZONA'])"
      ]
     },
     "execution_count": 2,
     "metadata": {},
     "output_type": "execute_result"
    }
   ],
   "source": [
    "import redatam\n",
    "\n",
    "glp = redatam.read_redatam(\"galapagos/cg15.dic\")\n",
    "\n",
    "glp.keys()"
   ]
  },
  {
   "cell_type": "code",
   "execution_count": 3,
   "metadata": {},
   "outputs": [
    {
     "name": "stdout",
     "output_type": "stream",
     "text": [
      "Opening dictionary file...\n",
      "Exporting CG15...\n",
      "Exporting PROVIN...\n",
      "Exporting CANTON...\n",
      "Exporting PARROQ...\n",
      "Exporting ZONA...\n",
      "Fixing encoding...\n",
      "Tidying variables...\n"
     ]
    },
    {
     "data": {
      "text/plain": [
       "dict_keys(['CANTON', 'CANTON_LABELS_NOMCANT', 'PARROQ', 'PARROQ_LABELS_NOMPARR', 'PROVIN', 'PROVIN_LABELS_NOMPROV', 'ZONA'])"
      ]
     },
     "execution_count": 3,
     "metadata": {},
     "output_type": "execute_result"
    }
   ],
   "source": [
    "glp2 = redatam.read_redatam(\"galapagos/cg15.dicX\")\n",
    "\n",
    "glp2.keys()"
   ]
  },
  {
   "cell_type": "code",
   "execution_count": 5,
   "metadata": {},
   "outputs": [
    {
     "data": {
      "text/html": [
       "<div>\n",
       "<style scoped>\n",
       "    .dataframe tbody tr th:only-of-type {\n",
       "        vertical-align: middle;\n",
       "    }\n",
       "\n",
       "    .dataframe tbody tr th {\n",
       "        vertical-align: top;\n",
       "    }\n",
       "\n",
       "    .dataframe thead th {\n",
       "        text-align: right;\n",
       "    }\n",
       "</style>\n",
       "<table border=\"1\" class=\"dataframe\">\n",
       "  <thead>\n",
       "    <tr style=\"text-align: right;\">\n",
       "      <th></th>\n",
       "      <th>PROVIN_REF_ID</th>\n",
       "      <th>CG15_REF_ID</th>\n",
       "      <th>I01</th>\n",
       "      <th>NOMPROV</th>\n",
       "    </tr>\n",
       "  </thead>\n",
       "  <tbody>\n",
       "    <tr>\n",
       "      <th>0</th>\n",
       "      <td>1</td>\n",
       "      <td>1</td>\n",
       "      <td>20</td>\n",
       "      <td>GALAPAGOS</td>\n",
       "    </tr>\n",
       "  </tbody>\n",
       "</table>\n",
       "</div>"
      ],
      "text/plain": [
       "   PROVIN_REF_ID  CG15_REF_ID I01    NOMPROV\n",
       "0              1            1  20  GALAPAGOS"
      ]
     },
     "execution_count": 5,
     "metadata": {},
     "output_type": "execute_result"
    }
   ],
   "source": [
    "glp[\"PROVIN\"]\n"
   ]
  },
  {
   "cell_type": "code",
   "execution_count": 6,
   "metadata": {},
   "outputs": [
    {
     "data": {
      "text/html": [
       "<div>\n",
       "<style scoped>\n",
       "    .dataframe tbody tr th:only-of-type {\n",
       "        vertical-align: middle;\n",
       "    }\n",
       "\n",
       "    .dataframe tbody tr th {\n",
       "        vertical-align: top;\n",
       "    }\n",
       "\n",
       "    .dataframe thead th {\n",
       "        text-align: right;\n",
       "    }\n",
       "</style>\n",
       "<table border=\"1\" class=\"dataframe\">\n",
       "  <thead>\n",
       "    <tr style=\"text-align: right;\">\n",
       "      <th></th>\n",
       "      <th>PROVIN_REF_ID</th>\n",
       "      <th>CG15_REF_ID</th>\n",
       "      <th>I01</th>\n",
       "      <th>NOMPROV</th>\n",
       "    </tr>\n",
       "  </thead>\n",
       "  <tbody>\n",
       "    <tr>\n",
       "      <th>0</th>\n",
       "      <td>1</td>\n",
       "      <td>1</td>\n",
       "      <td>20</td>\n",
       "      <td>GALAPAGOS</td>\n",
       "    </tr>\n",
       "  </tbody>\n",
       "</table>\n",
       "</div>"
      ],
      "text/plain": [
       "   PROVIN_REF_ID  CG15_REF_ID I01    NOMPROV\n",
       "0              1            1  20  GALAPAGOS"
      ]
     },
     "execution_count": 6,
     "metadata": {},
     "output_type": "execute_result"
    }
   ],
   "source": [
    "glp2[\"PROVIN\"]"
   ]
  },
  {
   "cell_type": "markdown",
   "metadata": {},
   "source": [
    "Uruguay census data from 2011."
   ]
  },
  {
   "cell_type": "code",
   "execution_count": null,
   "metadata": {},
   "outputs": [],
   "source": [
    "uru = redatam.read_redatam(\"uru2011/CPV2011_uruguay_publica.dic\")\n",
    "\n",
    "uru.keys()"
   ]
  }
 ],
 "metadata": {
  "kernelspec": {
   "display_name": "redatam",
   "language": "python",
   "name": "python3"
  },
  "language_info": {
   "codemirror_mode": {
    "name": "ipython",
    "version": 3
   },
   "file_extension": ".py",
   "mimetype": "text/x-python",
   "name": "python",
   "nbconvert_exporter": "python",
   "pygments_lexer": "ipython3",
   "version": "3.8.20"
  }
 },
 "nbformat": 4,
 "nbformat_minor": 2
}
